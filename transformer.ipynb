{
 "cells": [
  {
   "cell_type": "markdown",
   "metadata": {},
   "source": [
    "# The transformer architecture\n",
    "\n",
    "The transformer architecture describes an Encoder (left) and Decoder (right).\n",
    "\n",
    "<img src=\"assets/transformer.png\" alt=\"Image\" style=\"width:20%; display: block; margin: 0 auto;\"/>\n",
    "\n",
    "## Encoder\n",
    "- Encodes words or word-tokens to vectors. One input word/token results in one output word/token vector.\n",
    "- All words are simultaniously passed into the encoder. This has several advantages e.g., usage of parallelization on GPUs and better captioning of word meaning through the attention block.\n",
    "\n",
    "#### Encoder Blocks\n",
    "- Input Embedding: Some vector embedding of each word.\n",
    "- Positional Encoding: Encoding of each word with respect to the position of the word in a sentence.\n",
    "- Input Embedding and Positional Encoding forms the Input to the Encoder Block.\n",
    "- Multi-Head Attention: Every single word has 3 vectors: Q, K and V. More explanation below. \"Multi\" because we can stack the results on top of each other to get multi-attention. \n",
    "    - Q = What I am looking for [sequence length x d<sub>k</sub>].\n",
    "    - K = What I can offer [sequence length x d<sub>k</sub>]\n",
    "    - V: What I actually offer [sequence length x d<sub>v</sub>]\n",
    "- Feed Forward:\n",
    "- Add & Norm:\n",
    "\n",
    "## Decoder\n",
    "- The decoder first takes in the output of the encoder and a start token.\n",
    "- Then it will start generating the first word e.g. a translated word.\n",
    "- The translated word is then taken as an input for the decoder to generate the next word until the end of the sequence."
   ]
  },
  {
   "cell_type": "markdown",
   "metadata": {},
   "source": [
    "### Attention (Single Attention Head Logic)"
   ]
  },
  {
   "cell_type": "code",
   "execution_count": 1,
   "metadata": {},
   "outputs": [],
   "source": [
    "import numpy as np\n",
    "import math"
   ]
  },
  {
   "cell_type": "code",
   "execution_count": 2,
   "metadata": {},
   "outputs": [],
   "source": [
    "sequence_length, d_k, d_v = 4, 8, 8\n",
    "q = np.random.randn(sequence_length, d_k) # creates 8 x 1 vectors for each word in the sequence\n",
    "k = np.random.randn(sequence_length, d_k) # creates 8 x 1 vectors for each word in the sequence\n",
    "v = np.random.randn(sequence_length, d_v) # creates 8 x 1 vectors for each word in the sequence"
   ]
  },
  {
   "cell_type": "code",
   "execution_count": 3,
   "metadata": {},
   "outputs": [
    {
     "name": "stdout",
     "output_type": "stream",
     "text": [
      "q: [[ 0.86868105  0.08988912 -1.10323393  0.93144423 -0.22112637 -0.24831209\n",
      "   0.40688423 -0.91289303]\n",
      " [ 0.40834656  0.50665297  0.4314858   0.53812964 -0.16228728  1.2091965\n",
      "   0.32464194  1.24150235]\n",
      " [-1.4595666   0.42829345 -2.01205567 -0.54580935 -0.25461517  0.45080158\n",
      "   0.97421065 -0.31558105]\n",
      " [ 0.0123245   0.15119283  0.47036     0.82814215 -0.77944948  0.22135308\n",
      "  -0.05344812 -0.17976496]]\n",
      "k: [[-0.14663854  0.17277554  0.52508051 -0.9774565   0.67674323  2.12405684\n",
      "   1.9797991   0.25068627]\n",
      " [ 0.62117261 -0.01769471  0.62455526  0.63756487  0.45165196  0.40678757\n",
      "   0.2247856   0.61074585]\n",
      " [ 0.98421635 -0.08212173 -0.52603783 -0.51968416  0.03170745  0.77673048\n",
      "  -0.09899019 -0.26064771]\n",
      " [-0.00777449 -0.3075334   0.35970135  1.77996769  1.26058828 -1.26232102\n",
      "  -0.67460475 -0.19517895]]\n",
      "v: [[-0.06308092 -0.65323852 -0.31715511  0.02395267 -0.30154605  0.90656808\n",
      "  -0.71534914 -0.52487617]\n",
      " [-1.90357465  1.51662128  0.37612027  0.15376715  1.36739678 -1.5665135\n",
      "  -0.19630905  0.81053136]\n",
      " [-0.97739     0.74075609 -0.82804033  1.40544962 -1.02485925 -1.64379155\n",
      "   2.05146446  1.10501159]\n",
      " [-0.14507501  0.19830393  0.15942467 -0.9864518   0.55839545  0.47173279\n",
      "   0.0833837  -1.19999508]]\n"
     ]
    }
   ],
   "source": [
    "print(\"q:\", q)\n",
    "print(\"k:\", k)  \n",
    "print(\"v:\", v)"
   ]
  },
  {
   "cell_type": "markdown",
   "metadata": {},
   "source": [
    "## Self-Attention\n",
    "\n",
    "<img src=\"assets/attention.png\" alt=\"Image\" style=\"width:20%; display: block; margin: 0 auto;\"/>\n",
    "\n",
    "\n",
    "$$\n",
    "\\text{Self-Attention}(Q, K, V) = \\text{softmax}\\left(\\frac{QK^T}{\\sqrt{d_k}}\\right)V\n",
    "$$"
   ]
  },
  {
   "cell_type": "code",
   "execution_count": 4,
   "metadata": {},
   "outputs": [
    {
     "data": {
      "text/plain": [
       "array([[-1.70195981, -0.22413047,  0.94165722,  1.16510018],\n",
       "       [ 3.14075306,  2.1070739 ,  0.43200179, -1.23821972],\n",
       "       [ 2.39988965, -2.4242184 ,  0.19826067, -3.30126287],\n",
       "       [-0.74638268,  0.44293921, -0.47872225,  0.40582191]])"
      ]
     },
     "execution_count": 4,
     "metadata": {},
     "output_type": "execute_result"
    }
   ],
   "source": [
    "# create an initial attention matrix, we need every word to look at every word to look at every other word \n",
    "np.matmul(q, k.T) # 4 x 4 matrix"
   ]
  },
  {
   "cell_type": "code",
   "execution_count": 5,
   "metadata": {},
   "outputs": [
    {
     "data": {
      "text/plain": [
       "array([[-0.60173366, -0.07924209,  0.3329261 ,  0.41192512],\n",
       "       [ 1.11042389,  0.74496312,  0.1527357 , -0.43777678],\n",
       "       [ 0.84848912, -0.85709064,  0.07009573, -1.16717268],\n",
       "       [-0.26388613,  0.15660266, -0.16925388,  0.14347971]])"
      ]
     },
     "execution_count": 5,
     "metadata": {},
     "output_type": "execute_result"
    }
   ],
   "source": [
    "scaled = np.matmul(q, k.T) / math.sqrt(d_k) # scale by square root of d_k\n",
    "scaled"
   ]
  },
  {
   "cell_type": "markdown",
   "metadata": {},
   "source": [
    "## Masking\n",
    "- This is to ensure words don't get context from words generated in the future\n",
    "- Not requred in the encoders, but reqiured in the decoders"
   ]
  },
  {
   "cell_type": "code",
   "execution_count": 6,
   "metadata": {},
   "outputs": [
    {
     "data": {
      "text/plain": [
       "array([[1., 0., 0., 0.],\n",
       "       [1., 1., 0., 0.],\n",
       "       [1., 1., 1., 0.],\n",
       "       [1., 1., 1., 1.]])"
      ]
     },
     "execution_count": 6,
     "metadata": {},
     "output_type": "execute_result"
    }
   ],
   "source": [
    "mask = np.tril(np.ones((sequence_length, sequence_length)))\n",
    "mask"
   ]
  },
  {
   "cell_type": "code",
   "execution_count": 7,
   "metadata": {},
   "outputs": [
    {
     "data": {
      "text/plain": [
       "array([[  0., -inf, -inf, -inf],\n",
       "       [  0.,   0., -inf, -inf],\n",
       "       [  0.,   0.,   0., -inf],\n",
       "       [  0.,   0.,   0.,   0.]])"
      ]
     },
     "execution_count": 7,
     "metadata": {},
     "output_type": "execute_result"
    }
   ],
   "source": [
    "mask[mask == 0] = -np.infty\n",
    "mask[mask == 1.0] = 0\n",
    "mask"
   ]
  },
  {
   "cell_type": "code",
   "execution_count": 8,
   "metadata": {},
   "outputs": [
    {
     "data": {
      "text/plain": [
       "array([[-0.60173366,        -inf,        -inf,        -inf],\n",
       "       [ 1.11042389,  0.74496312,        -inf,        -inf],\n",
       "       [ 0.84848912, -0.85709064,  0.07009573,        -inf],\n",
       "       [-0.26388613,  0.15660266, -0.16925388,  0.14347971]])"
      ]
     },
     "execution_count": 8,
     "metadata": {},
     "output_type": "execute_result"
    }
   ],
   "source": [
    "scaled + mask"
   ]
  },
  {
   "cell_type": "markdown",
   "metadata": {},
   "source": [
    "## Softmax\n",
    "- Is used to convert a vector into a probability distribution\n",
    "- Advantage: Values add up to one and are more interpretable\n",
    "\n",
    "$$\n",
    "\\text{softmax}(x) = \\frac{e^{x_i}}{\\sum_j e_j^x}\n",
    "$$\n",
    "\n"
   ]
  },
  {
   "cell_type": "code",
   "execution_count": 9,
   "metadata": {},
   "outputs": [],
   "source": [
    "def softmax(x):\n",
    "    return np.exp(x) / np.sum(np.exp(x), axis=1).T"
   ]
  },
  {
   "cell_type": "code",
   "execution_count": 10,
   "metadata": {},
   "outputs": [
    {
     "data": {
      "text/plain": [
       "array([[1.        , 0.        , 0.        , 0.        ],\n",
       "       [5.54090339, 0.40963831, 0.        , 0.        ],\n",
       "       [4.26406437, 0.08253487, 0.27982707, 0.        ],\n",
       "       [1.40192674, 0.2274463 , 0.22026298, 0.29325041]])"
      ]
     },
     "execution_count": 10,
     "metadata": {},
     "output_type": "execute_result"
    }
   ],
   "source": [
    "attention = softmax(scaled + mask)\n",
    "attention"
   ]
  },
  {
   "cell_type": "code",
   "execution_count": 11,
   "metadata": {},
   "outputs": [
    {
     "data": {
      "text/plain": [
       "array([[-0.06308092, -0.65323852, -0.31715511,  0.02395267, -0.30154605,\n",
       "         0.90656808, -0.71534914, -0.52487617],\n",
       "       [-1.12930238, -2.99826537, -1.60325255,  0.19570834, -1.1106994 ,\n",
       "         4.3815022 , -4.04409616, -2.57626344],\n",
       "       [-0.69959256, -2.45299337, -1.55303486,  0.50810972, -1.4597372 ,\n",
       "         3.27639529, -2.49244182, -1.86199652],\n",
       "       [-0.77922197, -0.34952881, -0.49471635,  0.08884478, -0.17372499,\n",
       "         0.69091375, -0.57120287, -0.65999148]])"
      ]
     },
     "execution_count": 11,
     "metadata": {},
     "output_type": "execute_result"
    }
   ],
   "source": [
    "# multiplie attention matrix with value matrix\n",
    "new_v = np.matmul(attention, v)\n",
    "new_v # new matrix which should encapsulate the context of a word better"
   ]
  },
  {
   "cell_type": "code",
   "execution_count": 12,
   "metadata": {},
   "outputs": [
    {
     "data": {
      "text/plain": [
       "array([[-0.06308092, -0.65323852, -0.31715511,  0.02395267, -0.30154605,\n",
       "         0.90656808, -0.71534914, -0.52487617],\n",
       "       [-1.90357465,  1.51662128,  0.37612027,  0.15376715,  1.36739678,\n",
       "        -1.5665135 , -0.19630905,  0.81053136],\n",
       "       [-0.97739   ,  0.74075609, -0.82804033,  1.40544962, -1.02485925,\n",
       "        -1.64379155,  2.05146446,  1.10501159],\n",
       "       [-0.14507501,  0.19830393,  0.15942467, -0.9864518 ,  0.55839545,\n",
       "         0.47173279,  0.0833837 , -1.19999508]])"
      ]
     },
     "execution_count": 12,
     "metadata": {},
     "output_type": "execute_result"
    }
   ],
   "source": [
    "v"
   ]
  },
  {
   "cell_type": "markdown",
   "metadata": {},
   "source": [
    "## Multi-head Attention\n",
    "- Takes a vector (e.g. 512x1) which breaks down into three vectors (Q, K and V). \n",
    "- These three vectors are broken up into separate pieces e.g. 8 pieces for 8 attention heads\n",
    "- Each of these pieces is fed into an **Attention Unit** with all the other words too\n",
    "- This genereates an attention matrix for each head which is of size sequence length to sequence length. Moreover all rows add up to one, because its a probability distribution.\n",
    "- This generates other output vectors that get concatenated, which generates a vector with very good contextual awareness\n"
   ]
  },
  {
   "cell_type": "code",
   "execution_count": 13,
   "metadata": {},
   "outputs": [],
   "source": [
    "import torch\n",
    "import torch.nn as nn\n",
    "import torch.nn.functional as F"
   ]
  },
  {
   "cell_type": "code",
   "execution_count": 14,
   "metadata": {},
   "outputs": [],
   "source": [
    "sequence_length = 4 # length of input sentence with fixed max size\n",
    "batch_size = 1 \n",
    "input_dim = 512 # vector dimension of every word that goes into the attention unit \n",
    "d_model = 512 # output of the attention unit for every word\n",
    "x = torch.randn(batch_size, sequence_length, input_dim) # input embedding randomly generated from a normal distribution"
   ]
  },
  {
   "cell_type": "code",
   "execution_count": 16,
   "metadata": {},
   "outputs": [
    {
     "data": {
      "text/plain": [
       "torch.Size([1, 4, 512])"
      ]
     },
     "execution_count": 16,
     "metadata": {},
     "output_type": "execute_result"
    }
   ],
   "source": [
    "x.size()"
   ]
  },
  {
   "cell_type": "markdown",
   "metadata": {},
   "source": [
    "Mapping of the input dimension to the Q, K and V vectors."
   ]
  },
  {
   "cell_type": "code",
   "execution_count": 17,
   "metadata": {},
   "outputs": [],
   "source": [
    "qkv_layer = nn.Linear(input_dim, d_model * 3) # linear layer to generate q, k, v vectors all concatenated together, which all have 8 attention heads"
   ]
  },
  {
   "cell_type": "code",
   "execution_count": 19,
   "metadata": {},
   "outputs": [],
   "source": [
    "qkv = qkv_layer(x)"
   ]
  },
  {
   "cell_type": "code",
   "execution_count": 21,
   "metadata": {},
   "outputs": [
    {
     "data": {
      "text/plain": [
       "torch.Size([1, 4, 1536])"
      ]
     },
     "execution_count": 21,
     "metadata": {},
     "output_type": "execute_result"
    }
   ],
   "source": [
    "qkv.shape"
   ]
  },
  {
   "cell_type": "markdown",
   "metadata": {},
   "source": [
    "That is 1 batch, 4 words, with each word vector being 1536 in size."
   ]
  },
  {
   "cell_type": "code",
   "execution_count": 26,
   "metadata": {},
   "outputs": [
    {
     "data": {
      "text/plain": [
       "tensor([[ 0.5720, -0.4355, -0.6658,  ...,  0.3326,  0.1917,  0.3432],\n",
       "        [ 0.7264, -1.0669, -0.4281,  ..., -0.9502, -1.2488, -0.8482],\n",
       "        [ 0.5239, -0.8063, -0.5243,  ...,  0.3656, -0.0138, -0.7699],\n",
       "        [ 0.5537, -0.0665, -0.8164,  ...,  0.1043, -0.2839,  0.6794]],\n",
       "       grad_fn=<SelectBackward0>)"
      ]
     },
     "execution_count": 26,
     "metadata": {},
     "output_type": "execute_result"
    }
   ],
   "source": [
    "qkv[0] # this is the batch"
   ]
  },
  {
   "cell_type": "code",
   "execution_count": 28,
   "metadata": {},
   "outputs": [
    {
     "data": {
      "text/plain": [
       "tensor([ 0.5720, -0.4355, -0.6658,  ...,  0.3326,  0.1917,  0.3432],\n",
       "       grad_fn=<SelectBackward0>)"
      ]
     },
     "execution_count": 28,
     "metadata": {},
     "output_type": "execute_result"
    }
   ],
   "source": [
    "qkv[0][0] # this is the vector of the batch and the first word"
   ]
  },
  {
   "cell_type": "code",
   "execution_count": 34,
   "metadata": {},
   "outputs": [
    {
     "data": {
      "text/plain": [
       "Text(0.5, 1.0, 'qkv distribution')"
      ]
     },
     "execution_count": 34,
     "metadata": {},
     "output_type": "execute_result"
    },
    {
     "data": {
      "image/png": "[encoded data removed]",
      "text/plain": [
       "<Figure size 640x480 with 1 Axes>"
      ]
     },
     "metadata": {},
     "output_type": "display_data"
    }
   ],
   "source": [
    "import matplotlib.pyplot as plt\n",
    "y_val = torch.histc(qkv, bins=200, min=-3, max=3)\n",
    "x_val = np.arange(-1, 1, 0.01) * 3\n",
    "plt.bar(x_val, y_val, align='center')\n",
    "plt.title('qkv distribution')"
   ]
  },
  {
   "cell_type": "code",
   "execution_count": 47,
   "metadata": {},
   "outputs": [],
   "source": [
    "num_heads = 8\n",
    "head_dim = d_model // num_heads\n",
    "qkv = qkv.reshape(batch_size, sequence_length, num_heads, 3 * head_dim) # breaks down last dimension into a product of num_heads and 3 * head_dim"
   ]
  },
  {
   "cell_type": "code",
   "execution_count": 56,
   "metadata": {},
   "outputs": [
    {
     "data": {
      "text/plain": [
       "192"
      ]
     },
     "execution_count": 56,
     "metadata": {},
     "output_type": "execute_result"
    }
   ],
   "source": [
    "(512 // 8) * 3 # 3 for q, k, v"
   ]
  },
  {
   "cell_type": "code",
   "execution_count": 48,
   "metadata": {},
   "outputs": [
    {
     "data": {
      "text/plain": [
       "torch.Size([1, 4, 8, 192])"
      ]
     },
     "execution_count": 48,
     "metadata": {},
     "output_type": "execute_result"
    }
   ],
   "source": [
    "qkv.shape"
   ]
  },
  {
   "cell_type": "code",
   "execution_count": 61,
   "metadata": {},
   "outputs": [
    {
     "data": {
      "text/plain": [
       "torch.Size([192])"
      ]
     },
     "execution_count": 61,
     "metadata": {},
     "output_type": "execute_result"
    }
   ],
   "source": [
    "qkv[0][0][0].size() # first batch, first word, first attention head with all q, k, v vectors concatenated, each being of size 64"
   ]
  },
  {
   "cell_type": "code",
   "execution_count": 62,
   "metadata": {},
   "outputs": [
    {
     "data": {
      "text/plain": [
       "torch.Size([1, 8, 4, 192])"
      ]
     },
     "execution_count": 62,
     "metadata": {},
     "output_type": "execute_result"
    }
   ],
   "source": [
    "qkv = qkv.permute(0, 2, 1, 3) # [batch_size, num_heads, sequence_length, 3*head_dim]\n",
    "qkv.shape"
   ]
  },
  {
   "cell_type": "code",
   "execution_count": 63,
   "metadata": {},
   "outputs": [
    {
     "data": {
      "text/plain": [
       "(torch.Size([1, 8, 4, 64]),\n",
       " torch.Size([1, 8, 4, 64]),\n",
       " torch.Size([1, 8, 4, 64]))"
      ]
     },
     "execution_count": 63,
     "metadata": {},
     "output_type": "execute_result"
    }
   ],
   "source": [
    "q, k, v = qkv.chunk(3, dim=-1) # splits the last dimension into 3 chunks, each of size 64\n",
    "q.shape, k.shape, v.shape"
   ]
  },
  {
   "cell_type": "markdown",
   "metadata": {},
   "source": [
    "## Self-Attention for multiple heads\n",
    "\n",
    "For a single head:\n",
    "\n",
    "$$\n",
    "\\text{Self-Attention}(Q, K, V) = \\text{softmax}\\left(\\frac{QK^T}{\\sqrt{d_k}} + M\\right)\n",
    "$$\n",
    "$$\n",
    "\\text{new V} = \\text{Self-Attention. V}\n",
    "$$"
   ]
  },
  {
   "cell_type": "markdown",
   "metadata": {},
   "source": [
    "Every word has a query vector and it is going to compare itslef to one of its key vectors i.e. the matrix multiplication of \n",
    "$$QK^T$$\n",
    "We scale this by \n",
    "$$\\sqrt{d_k}$$ \n",
    "to make sure that the variance of the values is much smaller."
   ]
  },
  {
   "cell_type": "code",
   "execution_count": 64,
   "metadata": {},
   "outputs": [
    {
     "data": {
      "text/plain": [
       "torch.Size([1, 8, 4, 4])"
      ]
     },
     "execution_count": 64,
     "metadata": {},
     "output_type": "execute_result"
    }
   ],
   "source": [
    "d_k = q.size()[-1]\n",
    "scaled = torch.matmul(q, k.transpose(-2, -1)) / math.sqrt(d_k) # transpose along the sequence length and the dimension size (head_dim) scaled by square root of d_k\n",
    "scaled.shape # sequence_length x sequence_length"
   ]
  },
  {
   "cell_type": "code",
   "execution_count": 65,
   "metadata": {},
   "outputs": [
    {
     "data": {
      "text/plain": [
       "torch.Size([64, 4, 8, 1])"
      ]
     },
     "execution_count": 65,
     "metadata": {},
     "output_type": "execute_result"
    }
   ],
   "source": [
    "k.T.shape # sequence_length x sequence_length"
   ]
  },
  {
   "cell_type": "code",
   "execution_count": 67,
   "metadata": {},
   "outputs": [
    {
     "data": {
      "text/plain": [
       "tensor([[0., -inf, -inf, -inf],\n",
       "        [0., 0., -inf, -inf],\n",
       "        [0., 0., 0., -inf],\n",
       "        [0., 0., 0., 0.]])"
      ]
     },
     "execution_count": 67,
     "metadata": {},
     "output_type": "execute_result"
    }
   ],
   "source": [
    "mask = torch.full(scaled.size(), float('-inf')) # create a matrix of negative infinity\n",
    "mask = torch.triu(mask, diagonal=1) # create a upper triangular matrix of negative infinity\n",
    "mask[0][1] # mask for input to a single head"
   ]
  },
  {
   "cell_type": "code",
   "execution_count": 68,
   "metadata": {},
   "outputs": [
    {
     "data": {
      "text/plain": [
       "tensor([[ 0.0676,    -inf,    -inf,    -inf],\n",
       "        [-0.0658, -0.1217,    -inf,    -inf],\n",
       "        [-0.1628, -0.7305,  0.0187,    -inf],\n",
       "        [-0.2241, -0.3892,  0.3594,  0.0204]], grad_fn=<SelectBackward0>)"
      ]
     },
     "execution_count": 68,
     "metadata": {},
     "output_type": "execute_result"
    }
   ],
   "source": [
    "(scaled + mask)[0][0]"
   ]
  },
  {
   "cell_type": "code",
   "execution_count": 69,
   "metadata": {},
   "outputs": [],
   "source": [
    "scaled += mask"
   ]
  },
  {
   "cell_type": "code",
   "execution_count": 70,
   "metadata": {},
   "outputs": [],
   "source": [
    "attention = F.softmax(scaled, dim=-1) # softmax along the last dimension"
   ]
  },
  {
   "cell_type": "code",
   "execution_count": 71,
   "metadata": {},
   "outputs": [
    {
     "data": {
      "text/plain": [
       "torch.Size([1, 8, 4, 4])"
      ]
     },
     "execution_count": 71,
     "metadata": {},
     "output_type": "execute_result"
    }
   ],
   "source": [
    "attention.shape"
   ]
  },
  {
   "cell_type": "code",
   "execution_count": 72,
   "metadata": {},
   "outputs": [
    {
     "data": {
      "text/plain": [
       "tensor([[1.0000, 0.0000, 0.0000, 0.0000],\n",
       "        [0.5140, 0.4860, 0.0000, 0.0000],\n",
       "        [0.3615, 0.2049, 0.4335, 0.0000],\n",
       "        [0.2034, 0.1724, 0.3645, 0.2597]], grad_fn=<SelectBackward0>)"
      ]
     },
     "execution_count": 72,
     "metadata": {},
     "output_type": "execute_result"
    }
   ],
   "source": [
    "attention[0][0]"
   ]
  },
  {
   "cell_type": "code",
   "execution_count": 74,
   "metadata": {},
   "outputs": [
    {
     "data": {
      "text/plain": [
       "torch.Size([1, 8, 4, 64])"
      ]
     },
     "execution_count": 74,
     "metadata": {},
     "output_type": "execute_result"
    }
   ],
   "source": [
    "values = torch.matmul(attention, v) # multiply attention with v (what is offered by every single word)\n",
    "values.shape"
   ]
  },
  {
   "cell_type": "code",
   "execution_count": 75,
   "metadata": {},
   "outputs": [
    {
     "data": {
      "text/plain": [
       "torch.Size([1, 4, 512])"
      ]
     },
     "execution_count": 75,
     "metadata": {},
     "output_type": "execute_result"
    }
   ],
   "source": [
    "values = values.reshape(batch_size, sequence_length, num_heads * head_dim) # concatenate all the heads together\n",
    "values.shape"
   ]
  },
  {
   "cell_type": "code",
   "execution_count": 76,
   "metadata": {},
   "outputs": [],
   "source": [
    "linear_layer = nn.Linear(d_model, d_model) # linear layer to transform the concatenated heads into the output dimension to 512 x 512"
   ]
  },
  {
   "cell_type": "code",
   "execution_count": 77,
   "metadata": {},
   "outputs": [],
   "source": [
    "out = linear_layer(values)"
   ]
  },
  {
   "cell_type": "code",
   "execution_count": 78,
   "metadata": {},
   "outputs": [
    {
     "data": {
      "text/plain": [
       "torch.Size([1, 4, 512])"
      ]
     },
     "execution_count": 78,
     "metadata": {},
     "output_type": "execute_result"
    }
   ],
   "source": [
    "out.shape"
   ]
  },
  {
   "cell_type": "code",
   "execution_count": 80,
   "metadata": {},
   "outputs": [
    {
     "data": {
      "text/plain": [
       "tensor([[[-0.2428,  0.2622,  0.1467,  ...,  0.1397, -0.1031,  0.3395],\n",
       "         [-0.2548, -0.0433,  0.1523,  ...,  0.3486, -0.2958, -0.2404],\n",
       "         [ 0.0026, -0.3175, -0.0807,  ..., -0.3405,  0.3318,  0.1761],\n",
       "         [-0.3646, -0.1380,  0.1150,  ..., -0.5668,  0.0620, -0.1288]]],\n",
       "       grad_fn=<ViewBackward0>)"
      ]
     },
     "execution_count": 80,
     "metadata": {},
     "output_type": "execute_result"
    }
   ],
   "source": [
    "out # new vectors for each word of a sequence which should be more context aware than the original vector"
   ]
  },
  {
   "cell_type": "markdown",
   "metadata": {},
   "source": [
    "## Positional Encoding\n",
    "\n",
    "- Inital part of the transformer neural network architecture\n",
    "- Take the sequence and pad the rest to the max allowed sequence length of the network\n",
    "- Each word is one-hot encoded, where vocab size is the number of words in the dictionary (all possible words that can be used as input)\n",
    "- This is passed into a feed-forward layer where each of these vectors is mapped to a 512 dimensional vector. Parameters are learnable via backpropagation.\n",
    "- Output is a set of 512 dimensional vectors for each input in the sequence\n",
    "- To the output a set of positional encoded vectors is added, which then forms the input into the next steps of the transformer network\n",
    "\n",
    "<img src=\"assets/positional_encoding.png\" alt=\"Image\" style=\"width:20%; display: block; margin: 0 auto;\"/>\n",
    "\n",
    "- i = dimension index\n",
    "- d_model = Embedding Length\n",
    "- pos = position of word in sequence"
   ]
  },
  {
   "cell_type": "code",
   "execution_count": 81,
   "metadata": {},
   "outputs": [],
   "source": [
    "max_sequence_length = 10\n",
    "d_model = 6"
   ]
  },
  {
   "cell_type": "code",
   "execution_count": 89,
   "metadata": {},
   "outputs": [
    {
     "data": {
      "text/plain": [
       "tensor([0., 2., 4.])"
      ]
     },
     "execution_count": 89,
     "metadata": {},
     "output_type": "execute_result"
    }
   ],
   "source": [
    "even_i = torch.arange(0, d_model, 2).float() # set of values between 0 and d_model with a step size of 2\n",
    "even_i"
   ]
  },
  {
   "cell_type": "code",
   "execution_count": 90,
   "metadata": {},
   "outputs": [
    {
     "data": {
      "text/plain": [
       "tensor([  1.0000,  21.5443, 464.1590])"
      ]
     },
     "execution_count": 90,
     "metadata": {},
     "output_type": "execute_result"
    }
   ],
   "source": [
    "even_denominator = torch.pow(10000, even_i / d_model)\n",
    "even_denominator"
   ]
  },
  {
   "cell_type": "code",
   "execution_count": 87,
   "metadata": {},
   "outputs": [
    {
     "data": {
      "text/plain": [
       "tensor([1., 3., 5.])"
      ]
     },
     "execution_count": 87,
     "metadata": {},
     "output_type": "execute_result"
    }
   ],
   "source": [
    "odd_i = torch.arange(1, d_model, 2).float()\n",
    "odd_i"
   ]
  },
  {
   "cell_type": "code",
   "execution_count": 88,
   "metadata": {},
   "outputs": [
    {
     "data": {
      "text/plain": [
       "tensor([  1.0000,  21.5443, 464.1590])"
      ]
     },
     "execution_count": 88,
     "metadata": {},
     "output_type": "execute_result"
    }
   ],
   "source": [
    "odd_denominator = torch.pow(10000, (odd_i -1) / d_model)\n",
    "odd_denominator"
   ]
  },
  {
   "cell_type": "code",
   "execution_count": 91,
   "metadata": {},
   "outputs": [],
   "source": [
    "denominator = even_denominator"
   ]
  },
  {
   "cell_type": "code",
   "execution_count": 92,
   "metadata": {},
   "outputs": [],
   "source": [
    "position = torch.arange(max_sequence_length, dtype=torch.float).reshape(max_sequence_length, 1)"
   ]
  },
  {
   "cell_type": "code",
   "execution_count": 93,
   "metadata": {},
   "outputs": [
    {
     "data": {
      "text/plain": [
       "tensor([[0.],\n",
       "        [1.],\n",
       "        [2.],\n",
       "        [3.],\n",
       "        [4.],\n",
       "        [5.],\n",
       "        [6.],\n",
       "        [7.],\n",
       "        [8.],\n",
       "        [9.]])"
      ]
     },
     "execution_count": 93,
     "metadata": {},
     "output_type": "execute_result"
    }
   ],
   "source": [
    "position"
   ]
  },
  {
   "cell_type": "code",
   "execution_count": 94,
   "metadata": {},
   "outputs": [],
   "source": [
    "even_PE = torch.sin(position / denominator)\n",
    "odd_PE = torch.cos(position / denominator)"
   ]
  },
  {
   "cell_type": "code",
   "execution_count": 95,
   "metadata": {},
   "outputs": [
    {
     "data": {
      "text/plain": [
       "tensor([[ 0.0000,  0.0000,  0.0000],\n",
       "        [ 0.8415,  0.0464,  0.0022],\n",
       "        [ 0.9093,  0.0927,  0.0043],\n",
       "        [ 0.1411,  0.1388,  0.0065],\n",
       "        [-0.7568,  0.1846,  0.0086],\n",
       "        [-0.9589,  0.2300,  0.0108],\n",
       "        [-0.2794,  0.2749,  0.0129],\n",
       "        [ 0.6570,  0.3192,  0.0151],\n",
       "        [ 0.9894,  0.3629,  0.0172],\n",
       "        [ 0.4121,  0.4057,  0.0194]])"
      ]
     },
     "execution_count": 95,
     "metadata": {},
     "output_type": "execute_result"
    }
   ],
   "source": [
    "even_PE"
   ]
  },
  {
   "cell_type": "code",
   "execution_count": 96,
   "metadata": {},
   "outputs": [
    {
     "data": {
      "text/plain": [
       "torch.Size([10, 3, 2])"
      ]
     },
     "execution_count": 96,
     "metadata": {},
     "output_type": "execute_result"
    }
   ],
   "source": [
    "stacked = torch.stack((even_PE, odd_PE), dim=2)\n",
    "stacked.shape"
   ]
  },
  {
   "cell_type": "code",
   "execution_count": 97,
   "metadata": {},
   "outputs": [
    {
     "data": {
      "text/plain": [
       "tensor([[ 0.0000,  1.0000,  0.0000,  1.0000,  0.0000,  1.0000],\n",
       "        [ 0.8415,  0.5403,  0.0464,  0.9989,  0.0022,  1.0000],\n",
       "        [ 0.9093, -0.4161,  0.0927,  0.9957,  0.0043,  1.0000],\n",
       "        [ 0.1411, -0.9900,  0.1388,  0.9903,  0.0065,  1.0000],\n",
       "        [-0.7568, -0.6536,  0.1846,  0.9828,  0.0086,  1.0000],\n",
       "        [-0.9589,  0.2837,  0.2300,  0.9732,  0.0108,  0.9999],\n",
       "        [-0.2794,  0.9602,  0.2749,  0.9615,  0.0129,  0.9999],\n",
       "        [ 0.6570,  0.7539,  0.3192,  0.9477,  0.0151,  0.9999],\n",
       "        [ 0.9894, -0.1455,  0.3629,  0.9318,  0.0172,  0.9999],\n",
       "        [ 0.4121, -0.9111,  0.4057,  0.9140,  0.0194,  0.9998]])"
      ]
     },
     "execution_count": 97,
     "metadata": {},
     "output_type": "execute_result"
    }
   ],
   "source": [
    "PE = torch.flatten(stacked, start_dim=1, end_dim=2)\n",
    "PE"
   ]
  },
  {
   "cell_type": "markdown",
   "metadata": {},
   "source": [
    "## Layer Normalization (Add & Norm)\n",
    "\n",
    "- Adds the initial embedding (to counteract vanishing gradients during backpropagation) and the output of the attention block and normalizes the result\n",
    "- Normalization: Encapsulates values within smaller range centering around zero --> more even steps in gradient descent, faster and more stable to get to optimal parameter values\n",
    "- Layer: Strategy of Normalization, meaning that all activation values in every layer is normalized such that all values in a layer center around zero and have a standard deviation of about 1\n"
   ]
  }
 ],
 "metadata": {
  "kernelspec": {
   "display_name": "my-transformer",
   "language": "python",
   "name": "python3"
  },
  "language_info": {
   "codemirror_mode": {
    "name": "ipython",
    "version": 3
   },
   "file_extension": ".py",
   "mimetype": "text/x-python",
   "name": "python",
   "nbconvert_exporter": "python",
   "pygments_lexer": "ipython3",
   "version": "3.7.16"
  }
 },
 "nbformat": 4,
 "nbformat_minor": 2
}
